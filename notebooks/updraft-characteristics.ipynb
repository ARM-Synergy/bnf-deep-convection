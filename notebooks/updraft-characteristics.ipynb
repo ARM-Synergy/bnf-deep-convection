{
 "cells": [
  {
   "cell_type": "markdown",
   "id": "1e90ee51-3d5f-4806-8adc-ec97f8460e6f",
   "metadata": {},
   "source": [
    "# My awesome new notebook!"
   ]
  },
  {
   "cell_type": "code",
   "execution_count": 1,
   "id": "7b2b338a-e1d2-4b56-96dc-59efb632fef4",
   "metadata": {},
   "outputs": [
    {
     "name": "stdout",
     "output_type": "stream",
     "text": [
      "\n",
      "## You are using the Python ARM Radar Toolkit (Py-ART), an open source\n",
      "## library for working with weather radar data. Py-ART is partly\n",
      "## supported by the U.S. Department of Energy as part of the Atmospheric\n",
      "## Radiation Measurement (ARM) Climate Research Facility, an Office of\n",
      "## Science user facility.\n",
      "##\n",
      "## If you use this software to prepare a publication, please cite:\n",
      "##\n",
      "##     JJ Helmus and SM Collis, JORS 2016, doi: 10.5334/jors.119\n",
      "\n"
     ]
    },
    {
     "name": "stderr",
     "output_type": "stream",
     "text": [
      "ERROR 1: PROJ: proj_create_from_database: Open of /opt/conda/share/proj failed\n"
     ]
    }
   ],
   "source": [
    "import pyart"
   ]
  },
  {
   "cell_type": "code",
   "execution_count": 2,
   "id": "1d147194-21d2-4f3e-a943-9608684bc267",
   "metadata": {},
   "outputs": [],
   "source": [
    "# wow was that easy!"
   ]
  },
  {
   "cell_type": "code",
   "execution_count": null,
   "id": "8da16690-0345-4c53-a215-751edc93e986",
   "metadata": {},
   "outputs": [],
   "source": []
  }
 ],
 "metadata": {
  "kernelspec": {
   "display_name": "Python [conda env:base] *",
   "language": "python",
   "name": "conda-base-py"
  },
  "language_info": {
   "codemirror_mode": {
    "name": "ipython",
    "version": 3
   },
   "file_extension": ".py",
   "mimetype": "text/x-python",
   "name": "python",
   "nbconvert_exporter": "python",
   "pygments_lexer": "ipython3",
   "version": "3.11.6"
  }
 },
 "nbformat": 4,
 "nbformat_minor": 5
}
