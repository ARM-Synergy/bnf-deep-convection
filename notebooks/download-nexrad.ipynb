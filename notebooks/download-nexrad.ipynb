{
 "cells": [
  {
   "cell_type": "code",
   "execution_count": 14,
   "id": "2aa40331-b2e5-476f-b3ed-8576d49c40f6",
   "metadata": {},
   "outputs": [],
   "source": [
    "import nexradaws\n",
    "import tempfile\n",
    "import six\n",
    "templocation = tempfile.mkdtemp()\n",
    "conn = nexradaws.NexradAwsInterface()\n",
    "scans = conn.get_avail_scans('2025', '05', '20', 'KHTX')"
   ]
  },
  {
   "cell_type": "code",
   "execution_count": 15,
   "id": "e539a579-3535-4502-822c-5365f38ede09",
   "metadata": {},
   "outputs": [],
   "source": [
    "scans = scans[-40:]"
   ]
  },
  {
   "cell_type": "code",
   "execution_count": 16,
   "id": "d8e91f91-0c55-4144-95c4-4a80597cdf46",
   "metadata": {},
   "outputs": [],
   "source": [
    "outdir = \"/Users/mgrover/Documents/argonne/arm-summer-school-2025/data/radar/nexrad\""
   ]
  },
  {
   "cell_type": "code",
   "execution_count": 17,
   "id": "f17fb8a5-e0c0-4e92-bc05-23bcb1080334",
   "metadata": {},
   "outputs": [
    {
     "name": "stdout",
     "output_type": "stream",
     "text": [
      "Downloaded KHTX20250520_205811_V06_MDM\n",
      "Downloaded KHTX20250520_204742_V06\n",
      "Downloaded KHTX20250520_210315_V06\n",
      "Downloaded KHTX20250520_210818_V06\n",
      "Downloaded KHTX20250520_205811_V06\n",
      "Downloaded KHTX20250520_211329_V06\n",
      "Downloaded KHTX20250520_212937_V06\n",
      "Downloaded KHTX20250520_205245_V06\n",
      "Downloaded KHTX20250520_211828_V06\n",
      "Downloaded KHTX20250520_213904_V06\n",
      "Downloaded KHTX20250520_213427_V06\n",
      "Downloaded KHTX20250520_212439_V06\n",
      "Downloaded KHTX20250520_215741_V06_MDM\n",
      "Downloaded KHTX20250520_215300_V06\n",
      "Downloaded KHTX20250520_215741_V06\n",
      "Downloaded KHTX20250520_220253_V06\n",
      "Downloaded KHTX20250520_214831_V06\n",
      "Downloaded KHTX20250520_214349_V06\n",
      "Downloaded KHTX20250520_220820_V06\n",
      "Downloaded KHTX20250520_221333_V06\n",
      "Downloaded KHTX20250520_223442_V06\n",
      "Downloaded KHTX20250520_224518_V06\n",
      "Downloaded KHTX20250520_222416_V06\n",
      "Downloaded KHTX20250520_222933_V06\n",
      "Downloaded KHTX20250520_225554_V06_MDM\n",
      "Downloaded KHTX20250520_221859_V06\n",
      "Downloaded KHTX20250520_224008_V06\n",
      "Downloaded KHTX20250520_225554_V06\n",
      "Downloaded KHTX20250520_225028_V06\n",
      "Downloaded KHTX20250520_231810_V06\n",
      "Downloaded KHTX20250520_231212_V06\n",
      "Downloaded KHTX20250520_232419_V06\n",
      "Downloaded KHTX20250520_230119_V06\n",
      "Downloaded KHTX20250520_233028_V06\n",
      "Downloaded KHTX20250520_235759_V06_MDM\n",
      "Downloaded KHTX20250520_230646_V06\n",
      "Downloaded KHTX20250520_234414_V06\n",
      "Downloaded KHTX20250520_233721_V06\n",
      "Downloaded KHTX20250520_235107_V06\n",
      "Downloaded KHTX20250520_235759_V06\n",
      "40 out of 40 files downloaded...0 errors\n",
      "[<LocalNexradFile object - /Users/mgrover/Documents/argonne/arm-summer-school-2025/data/radar/nexrad/KHTX20250520_204742_V06>, <LocalNexradFile object - /Users/mgrover/Documents/argonne/arm-summer-school-2025/data/radar/nexrad/KHTX20250520_205245_V06>, <LocalNexradFile object - /Users/mgrover/Documents/argonne/arm-summer-school-2025/data/radar/nexrad/KHTX20250520_205811_V06_MDM>, <LocalNexradFile object - /Users/mgrover/Documents/argonne/arm-summer-school-2025/data/radar/nexrad/KHTX20250520_205811_V06>, <LocalNexradFile object - /Users/mgrover/Documents/argonne/arm-summer-school-2025/data/radar/nexrad/KHTX20250520_210315_V06>, <LocalNexradFile object - /Users/mgrover/Documents/argonne/arm-summer-school-2025/data/radar/nexrad/KHTX20250520_210818_V06>, <LocalNexradFile object - /Users/mgrover/Documents/argonne/arm-summer-school-2025/data/radar/nexrad/KHTX20250520_211329_V06>, <LocalNexradFile object - /Users/mgrover/Documents/argonne/arm-summer-school-2025/data/radar/nexrad/KHTX20250520_211828_V06>, <LocalNexradFile object - /Users/mgrover/Documents/argonne/arm-summer-school-2025/data/radar/nexrad/KHTX20250520_212439_V06>, <LocalNexradFile object - /Users/mgrover/Documents/argonne/arm-summer-school-2025/data/radar/nexrad/KHTX20250520_212937_V06>, <LocalNexradFile object - /Users/mgrover/Documents/argonne/arm-summer-school-2025/data/radar/nexrad/KHTX20250520_213427_V06>, <LocalNexradFile object - /Users/mgrover/Documents/argonne/arm-summer-school-2025/data/radar/nexrad/KHTX20250520_213904_V06>, <LocalNexradFile object - /Users/mgrover/Documents/argonne/arm-summer-school-2025/data/radar/nexrad/KHTX20250520_214349_V06>, <LocalNexradFile object - /Users/mgrover/Documents/argonne/arm-summer-school-2025/data/radar/nexrad/KHTX20250520_214831_V06>, <LocalNexradFile object - /Users/mgrover/Documents/argonne/arm-summer-school-2025/data/radar/nexrad/KHTX20250520_215300_V06>, <LocalNexradFile object - /Users/mgrover/Documents/argonne/arm-summer-school-2025/data/radar/nexrad/KHTX20250520_215741_V06_MDM>, <LocalNexradFile object - /Users/mgrover/Documents/argonne/arm-summer-school-2025/data/radar/nexrad/KHTX20250520_215741_V06>, <LocalNexradFile object - /Users/mgrover/Documents/argonne/arm-summer-school-2025/data/radar/nexrad/KHTX20250520_220253_V06>, <LocalNexradFile object - /Users/mgrover/Documents/argonne/arm-summer-school-2025/data/radar/nexrad/KHTX20250520_220820_V06>, <LocalNexradFile object - /Users/mgrover/Documents/argonne/arm-summer-school-2025/data/radar/nexrad/KHTX20250520_221333_V06>, <LocalNexradFile object - /Users/mgrover/Documents/argonne/arm-summer-school-2025/data/radar/nexrad/KHTX20250520_221859_V06>, <LocalNexradFile object - /Users/mgrover/Documents/argonne/arm-summer-school-2025/data/radar/nexrad/KHTX20250520_222416_V06>, <LocalNexradFile object - /Users/mgrover/Documents/argonne/arm-summer-school-2025/data/radar/nexrad/KHTX20250520_222933_V06>, <LocalNexradFile object - /Users/mgrover/Documents/argonne/arm-summer-school-2025/data/radar/nexrad/KHTX20250520_223442_V06>, <LocalNexradFile object - /Users/mgrover/Documents/argonne/arm-summer-school-2025/data/radar/nexrad/KHTX20250520_224008_V06>, <LocalNexradFile object - /Users/mgrover/Documents/argonne/arm-summer-school-2025/data/radar/nexrad/KHTX20250520_224518_V06>, <LocalNexradFile object - /Users/mgrover/Documents/argonne/arm-summer-school-2025/data/radar/nexrad/KHTX20250520_225028_V06>, <LocalNexradFile object - /Users/mgrover/Documents/argonne/arm-summer-school-2025/data/radar/nexrad/KHTX20250520_225554_V06_MDM>, <LocalNexradFile object - /Users/mgrover/Documents/argonne/arm-summer-school-2025/data/radar/nexrad/KHTX20250520_225554_V06>, <LocalNexradFile object - /Users/mgrover/Documents/argonne/arm-summer-school-2025/data/radar/nexrad/KHTX20250520_230119_V06>, <LocalNexradFile object - /Users/mgrover/Documents/argonne/arm-summer-school-2025/data/radar/nexrad/KHTX20250520_230646_V06>, <LocalNexradFile object - /Users/mgrover/Documents/argonne/arm-summer-school-2025/data/radar/nexrad/KHTX20250520_231212_V06>, <LocalNexradFile object - /Users/mgrover/Documents/argonne/arm-summer-school-2025/data/radar/nexrad/KHTX20250520_231810_V06>, <LocalNexradFile object - /Users/mgrover/Documents/argonne/arm-summer-school-2025/data/radar/nexrad/KHTX20250520_232419_V06>, <LocalNexradFile object - /Users/mgrover/Documents/argonne/arm-summer-school-2025/data/radar/nexrad/KHTX20250520_233028_V06>, <LocalNexradFile object - /Users/mgrover/Documents/argonne/arm-summer-school-2025/data/radar/nexrad/KHTX20250520_233721_V06>, <LocalNexradFile object - /Users/mgrover/Documents/argonne/arm-summer-school-2025/data/radar/nexrad/KHTX20250520_234414_V06>, <LocalNexradFile object - /Users/mgrover/Documents/argonne/arm-summer-school-2025/data/radar/nexrad/KHTX20250520_235107_V06>, <LocalNexradFile object - /Users/mgrover/Documents/argonne/arm-summer-school-2025/data/radar/nexrad/KHTX20250520_235759_V06_MDM>, <LocalNexradFile object - /Users/mgrover/Documents/argonne/arm-summer-school-2025/data/radar/nexrad/KHTX20250520_235759_V06>]\n",
      "/Users/mgrover/Documents/argonne/arm-summer-school-2025/data/radar/nexrad/KHTX20250520_204742_V06\n"
     ]
    }
   ],
   "source": [
    "localfiles = conn.download(scans, outdir)\n",
    "six.print_(localfiles.success)\n",
    "six.print_(localfiles.success[0].filepath)"
   ]
  },
  {
   "cell_type": "code",
   "execution_count": 18,
   "id": "d8a9c1d5-1794-4fe4-b53c-61661895e746",
   "metadata": {},
   "outputs": [],
   "source": [
    "scans = conn.get_avail_scans('2025', '05', '21', 'KHTX')"
   ]
  },
  {
   "cell_type": "code",
   "execution_count": 24,
   "id": "ecadea5a-e0f4-4b8f-ab63-2ecc8d2e4da9",
   "metadata": {},
   "outputs": [
    {
     "name": "stdout",
     "output_type": "stream",
     "text": [
      "Downloaded KHTX20250521_002530_V06\n",
      "Downloaded KHTX20250521_003223_V06\n",
      "Downloaded KHTX20250521_001145_V06\n",
      "Downloaded KHTX20250521_000452_V06\n",
      "Downloaded KHTX20250521_001837_V06\n",
      "Downloaded KHTX20250521_003842_V06\n",
      "Downloaded KHTX20250521_005906_V06_MDM\n",
      "Downloaded KHTX20250521_004534_V06\n",
      "Downloaded KHTX20250521_005906_V06\n",
      "Downloaded KHTX20250521_005213_V06\n",
      "10 out of 10 files downloaded...0 errors\n",
      "[<LocalNexradFile object - /Users/mgrover/Documents/argonne/arm-summer-school-2025/data/radar/nexrad/KHTX20250521_000452_V06>, <LocalNexradFile object - /Users/mgrover/Documents/argonne/arm-summer-school-2025/data/radar/nexrad/KHTX20250521_001145_V06>, <LocalNexradFile object - /Users/mgrover/Documents/argonne/arm-summer-school-2025/data/radar/nexrad/KHTX20250521_001837_V06>, <LocalNexradFile object - /Users/mgrover/Documents/argonne/arm-summer-school-2025/data/radar/nexrad/KHTX20250521_002530_V06>, <LocalNexradFile object - /Users/mgrover/Documents/argonne/arm-summer-school-2025/data/radar/nexrad/KHTX20250521_003223_V06>, <LocalNexradFile object - /Users/mgrover/Documents/argonne/arm-summer-school-2025/data/radar/nexrad/KHTX20250521_003842_V06>, <LocalNexradFile object - /Users/mgrover/Documents/argonne/arm-summer-school-2025/data/radar/nexrad/KHTX20250521_004534_V06>, <LocalNexradFile object - /Users/mgrover/Documents/argonne/arm-summer-school-2025/data/radar/nexrad/KHTX20250521_005213_V06>, <LocalNexradFile object - /Users/mgrover/Documents/argonne/arm-summer-school-2025/data/radar/nexrad/KHTX20250521_005906_V06_MDM>, <LocalNexradFile object - /Users/mgrover/Documents/argonne/arm-summer-school-2025/data/radar/nexrad/KHTX20250521_005906_V06>]\n",
      "/Users/mgrover/Documents/argonne/arm-summer-school-2025/data/radar/nexrad/KHTX20250521_000452_V06\n"
     ]
    }
   ],
   "source": [
    "localfiles = conn.download(scans[:10], outdir)\n",
    "six.print_(localfiles.success)\n",
    "six.print_(localfiles.success[0].filepath)"
   ]
  },
  {
   "cell_type": "code",
   "execution_count": null,
   "id": "76262637-7fc6-4fd8-8e37-c7fc045de67c",
   "metadata": {},
   "outputs": [],
   "source": []
  }
 ],
 "metadata": {
  "kernelspec": {
   "display_name": "Python 3 (ipykernel)",
   "language": "python",
   "name": "python3"
  },
  "language_info": {
   "codemirror_mode": {
    "name": "ipython",
    "version": 3
   },
   "file_extension": ".py",
   "mimetype": "text/x-python",
   "name": "python",
   "nbconvert_exporter": "python",
   "pygments_lexer": "ipython3",
   "version": "3.11.12"
  }
 },
 "nbformat": 4,
 "nbformat_minor": 5
}
